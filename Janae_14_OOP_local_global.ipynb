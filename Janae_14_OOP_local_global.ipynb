{
  "nbformat": 4,
  "nbformat_minor": 0,
  "metadata": {
    "colab": {
      "name": "Janae_14_OOP_local_global.ipynb",
      "provenance": [],
      "collapsed_sections": []
    },
    "kernelspec": {
      "name": "python3",
      "display_name": "Python 3"
    },
    "language_info": {
      "name": "python"
    }
  },
  "cells": [
    {
      "cell_type": "markdown",
      "metadata": {
        "id": "dHrU9Q-NjTlz"
      },
      "source": [
        "#Janae Courtney"
      ]
    },
    {
      "cell_type": "markdown",
      "metadata": {
        "id": "BidfB2o49aFk"
      },
      "source": [
        "##Resource\n",
        "1. https://www.programiz.com/python-programming/global-local-nonlocal-variables\n",
        "2. https://stackabuse.com/how-to-use-global-and-nonlocal-variables-in-python/"
      ]
    },
    {
      "cell_type": "markdown",
      "metadata": {
        "id": "V_C_8ib4-p8H"
      },
      "source": [
        "#global vs. local vs. nonlocal"
      ]
    },
    {
      "cell_type": "markdown",
      "metadata": {
        "id": "ncdXPg4nSBLJ"
      },
      "source": [
        "##global variables"
      ]
    },
    {
      "cell_type": "code",
      "metadata": {
        "id": "n6NZNJKFLvbi",
        "colab": {
          "base_uri": "https://localhost:8080/"
        },
        "outputId": "7f0cd6b0-e222-472f-a951-c97d9f1fbfc8"
      },
      "source": [
        "#(Example 1) Creating a global variable\n",
        "\n",
        "x = \"global\"\n",
        "\n",
        "def foo():\n",
        "    print(\"x inside:\", x) \n",
        "\n",
        "foo()\n",
        "print(\"x outside:\", x)"
      ],
      "execution_count": null,
      "outputs": [
        {
          "output_type": "stream",
          "name": "stdout",
          "text": [
            "x inside: global\n",
            "x outside: global\n"
          ]
        }
      ]
    },
    {
      "cell_type": "code",
      "metadata": {
        "id": "kvE1P4gQSgQp",
        "colab": {
          "base_uri": "https://localhost:8080/",
          "height": 338
        },
        "outputId": "22d941f9-7852-4a29-9da1-b3a8e9c3bdf4"
      },
      "source": [
        "#What if?\n",
        "\n",
        "x = \"global\"\n",
        "\n",
        "def foo():\n",
        "    x = x * 2 #error, x is already referenced outside of the function\n",
        "    print(x)\n",
        "\n",
        "foo()"
      ],
      "execution_count": null,
      "outputs": [
        {
          "output_type": "error",
          "ename": "UnboundLocalError",
          "evalue": "ignored",
          "traceback": [
            "\u001b[0;31m---------------------------------------------------------------------------\u001b[0m",
            "\u001b[0;31mUnboundLocalError\u001b[0m                         Traceback (most recent call last)",
            "\u001b[0;32m<ipython-input-2-920004dadfa5>\u001b[0m in \u001b[0;36m<module>\u001b[0;34m()\u001b[0m\n\u001b[1;32m      7\u001b[0m     \u001b[0mprint\u001b[0m\u001b[0;34m(\u001b[0m\u001b[0mx\u001b[0m\u001b[0;34m)\u001b[0m\u001b[0;34m\u001b[0m\u001b[0;34m\u001b[0m\u001b[0m\n\u001b[1;32m      8\u001b[0m \u001b[0;34m\u001b[0m\u001b[0m\n\u001b[0;32m----> 9\u001b[0;31m \u001b[0mfoo\u001b[0m\u001b[0;34m(\u001b[0m\u001b[0;34m)\u001b[0m\u001b[0;34m\u001b[0m\u001b[0;34m\u001b[0m\u001b[0m\n\u001b[0m",
            "\u001b[0;32m<ipython-input-2-920004dadfa5>\u001b[0m in \u001b[0;36mfoo\u001b[0;34m()\u001b[0m\n\u001b[1;32m      4\u001b[0m \u001b[0;34m\u001b[0m\u001b[0m\n\u001b[1;32m      5\u001b[0m \u001b[0;32mdef\u001b[0m \u001b[0mfoo\u001b[0m\u001b[0;34m(\u001b[0m\u001b[0;34m)\u001b[0m\u001b[0;34m:\u001b[0m\u001b[0;34m\u001b[0m\u001b[0;34m\u001b[0m\u001b[0m\n\u001b[0;32m----> 6\u001b[0;31m     \u001b[0mx\u001b[0m \u001b[0;34m=\u001b[0m \u001b[0mx\u001b[0m \u001b[0;34m*\u001b[0m \u001b[0;36m2\u001b[0m\u001b[0;34m\u001b[0m\u001b[0;34m\u001b[0m\u001b[0m\n\u001b[0m\u001b[1;32m      7\u001b[0m     \u001b[0mprint\u001b[0m\u001b[0;34m(\u001b[0m\u001b[0mx\u001b[0m\u001b[0;34m)\u001b[0m\u001b[0;34m\u001b[0m\u001b[0;34m\u001b[0m\u001b[0m\n\u001b[1;32m      8\u001b[0m \u001b[0;34m\u001b[0m\u001b[0m\n",
            "\u001b[0;31mUnboundLocalError\u001b[0m: local variable 'x' referenced before assignment"
          ]
        }
      ]
    },
    {
      "cell_type": "code",
      "metadata": {
        "id": "UqbhU4aCUyR3",
        "colab": {
          "base_uri": "https://localhost:8080/"
        },
        "outputId": "a46928d8-4fb5-4c7c-8c59-8a3f2a240ded"
      },
      "source": [
        "fruit = ['apple', 'banana']\n",
        "\n",
        "def shopping_list():\n",
        "    fruit = ['apple', 'banana', 'grapes']\n",
        "\n",
        "shopping_list()\n",
        "print(fruit) #prints the fruit that is outside of the function"
      ],
      "execution_count": null,
      "outputs": [
        {
          "output_type": "stream",
          "name": "stdout",
          "text": [
            "['apple', 'banana']\n"
          ]
        }
      ]
    },
    {
      "cell_type": "code",
      "metadata": {
        "id": "30sm_pHdU3lm",
        "colab": {
          "base_uri": "https://localhost:8080/"
        },
        "outputId": "d6135db5-b608-415e-b6a0-90a1dc0489ec"
      },
      "source": [
        "fruit = ['pineapple', 'grapes']\n",
        "\n",
        "def shopping_list():\n",
        "    global fruit\n",
        "    fruit = ['pineapple', 'grapes', 'apple', 'banana']\n",
        "\n",
        "shopping_list()\n",
        "print(fruit)  #the fruit that is in function is a global variable so it is seen outside of the function"
      ],
      "execution_count": null,
      "outputs": [
        {
          "output_type": "stream",
          "name": "stdout",
          "text": [
            "['pineapple', 'grapes', 'apple', 'banana']\n"
          ]
        }
      ]
    },
    {
      "cell_type": "code",
      "metadata": {
        "id": "WjGXTRp3U60u",
        "colab": {
          "base_uri": "https://localhost:8080/"
        },
        "outputId": "f94d2080-8cbd-4d09-c22f-76bbac9f122e"
      },
      "source": [
        "def shopping_list():\n",
        "    global fruit\n",
        "    fruit = ['pineapple', 'grapes', 'apple', 'banana']\n",
        "\n",
        "\n",
        "shopping_list()\n",
        "print(fruit) # fruit is seen outside of the function because it's a global variable"
      ],
      "execution_count": null,
      "outputs": [
        {
          "output_type": "stream",
          "name": "stdout",
          "text": [
            "['pineapple', 'grapes', 'apple', 'banana']\n"
          ]
        }
      ]
    },
    {
      "cell_type": "code",
      "metadata": {
        "id": "uXJfsxS5VCev",
        "colab": {
          "base_uri": "https://localhost:8080/"
        },
        "outputId": "4d3852f5-99d2-4575-a17a-7d9b9372ba35"
      },
      "source": [
        "def shopping_list():\n",
        "    global fruit\n",
        "    fruit = ['pineapple', 'grapes', 'apple', 'banana']\n",
        "\n",
        "\n",
        "shopping_list()\n",
        "print(fruit)# fruit is seen outside of the function because it's a global variable"
      ],
      "execution_count": null,
      "outputs": [
        {
          "output_type": "stream",
          "name": "stdout",
          "text": [
            "['pineapple', 'grapes', 'apple', 'banana']\n"
          ]
        }
      ]
    },
    {
      "cell_type": "code",
      "metadata": {
        "colab": {
          "base_uri": "https://localhost:8080/"
        },
        "id": "DlreqR2iVFv3",
        "outputId": "f4eb45ea-b693-4c69-c679-527544315ceb"
      },
      "source": [
        "#Caution when using global variables\n",
        "\n",
        "fruit = ['pineapple', 'grapes', 'apple', 'banana']\n",
        "\n",
        "def first_item():\n",
        "    global fruit\n",
        "    fruit = fruit[0]\n",
        "    \n",
        "def iterate():      # iterates through the list\n",
        "    global fruit\n",
        "    for entry in fruit:\n",
        "        print(entry)\n",
        "    \n",
        "iterate()\n",
        "print(fruit)\n",
        "first_item()\n",
        "print(fruit)"
      ],
      "execution_count": null,
      "outputs": [
        {
          "output_type": "stream",
          "name": "stdout",
          "text": [
            "pineapple\n",
            "grapes\n",
            "apple\n",
            "banana\n",
            "['pineapple', 'grapes', 'apple', 'banana']\n",
            "pineapple\n"
          ]
        }
      ]
    },
    {
      "cell_type": "code",
      "metadata": {
        "id": "mqI_xaJBVoEZ",
        "colab": {
          "base_uri": "https://localhost:8080/",
          "height": 246
        },
        "outputId": "84092170-c338-4ff8-8c15-0682b4491eca"
      },
      "source": [
        "#What if?\n",
        "first_item() \n",
        "print(fruit) #will print the first item -> pineapple\n",
        "iterate()    #iterates through pineapple, prints out each letter\n",
        "print(fruit) #prints pineapple"
      ],
      "execution_count": null,
      "outputs": [
        {
          "output_type": "error",
          "ename": "NameError",
          "evalue": "ignored",
          "traceback": [
            "\u001b[0;31m---------------------------------------------------------------------------\u001b[0m",
            "\u001b[0;31mNameError\u001b[0m                                 Traceback (most recent call last)",
            "\u001b[0;32m<ipython-input-6-f7b98f7309b2>\u001b[0m in \u001b[0;36m<module>\u001b[0;34m()\u001b[0m\n\u001b[1;32m      1\u001b[0m \u001b[0;31m#What if?\u001b[0m\u001b[0;34m\u001b[0m\u001b[0;34m\u001b[0m\u001b[0;34m\u001b[0m\u001b[0m\n\u001b[0;32m----> 2\u001b[0;31m \u001b[0mfirst_item\u001b[0m\u001b[0;34m(\u001b[0m\u001b[0;34m)\u001b[0m\u001b[0;34m\u001b[0m\u001b[0;34m\u001b[0m\u001b[0m\n\u001b[0m\u001b[1;32m      3\u001b[0m \u001b[0mprint\u001b[0m\u001b[0;34m(\u001b[0m\u001b[0mfruit\u001b[0m\u001b[0;34m)\u001b[0m\u001b[0;34m\u001b[0m\u001b[0;34m\u001b[0m\u001b[0m\n\u001b[1;32m      4\u001b[0m \u001b[0miterate\u001b[0m\u001b[0;34m(\u001b[0m\u001b[0;34m)\u001b[0m\u001b[0;34m\u001b[0m\u001b[0;34m\u001b[0m\u001b[0m\n\u001b[1;32m      5\u001b[0m \u001b[0mprint\u001b[0m\u001b[0;34m(\u001b[0m\u001b[0mfruit\u001b[0m\u001b[0;34m)\u001b[0m\u001b[0;34m\u001b[0m\u001b[0;34m\u001b[0m\u001b[0m\n",
            "\u001b[0;31mNameError\u001b[0m: name 'first_item' is not defined"
          ]
        }
      ]
    },
    {
      "cell_type": "markdown",
      "metadata": {
        "id": "EcuxA00hSkWx"
      },
      "source": [
        "##local variable"
      ]
    },
    {
      "cell_type": "code",
      "metadata": {
        "id": "ugO9GhIqMZ_1",
        "colab": {
          "base_uri": "https://localhost:8080/",
          "height": 213
        },
        "outputId": "8e7ef2d9-8a8c-4939-9d14-36cda1601eb0"
      },
      "source": [
        "#(Example 2) Accessing local variable outside the scope\t\t\n",
        "\n",
        "def foo():\n",
        "    y = \"local\"\n",
        "\n",
        "foo()\n",
        "print(y) #y is the accessable outside of the function"
      ],
      "execution_count": null,
      "outputs": [
        {
          "output_type": "error",
          "ename": "NameError",
          "evalue": "ignored",
          "traceback": [
            "\u001b[0;31m---------------------------------------------------------------------------\u001b[0m",
            "\u001b[0;31mNameError\u001b[0m                                 Traceback (most recent call last)",
            "\u001b[0;32m<ipython-input-2-6840a3cd0e05>\u001b[0m in \u001b[0;36m<module>\u001b[0;34m()\u001b[0m\n\u001b[1;32m      5\u001b[0m \u001b[0;34m\u001b[0m\u001b[0m\n\u001b[1;32m      6\u001b[0m \u001b[0mfoo\u001b[0m\u001b[0;34m(\u001b[0m\u001b[0;34m)\u001b[0m\u001b[0;34m\u001b[0m\u001b[0;34m\u001b[0m\u001b[0m\n\u001b[0;32m----> 7\u001b[0;31m \u001b[0mprint\u001b[0m\u001b[0;34m(\u001b[0m\u001b[0my\u001b[0m\u001b[0;34m)\u001b[0m\u001b[0;34m\u001b[0m\u001b[0;34m\u001b[0m\u001b[0m\n\u001b[0m",
            "\u001b[0;31mNameError\u001b[0m: name 'y' is not defined"
          ]
        }
      ]
    },
    {
      "cell_type": "code",
      "metadata": {
        "id": "c6TsfF2QS216",
        "colab": {
          "base_uri": "https://localhost:8080/"
        },
        "outputId": "4c4cbb83-0392-458f-919e-658e66d74f42"
      },
      "source": [
        "#(Example 3) Creating a local variable\n",
        "\n",
        "def foo():\n",
        "    y = \"local\"\n",
        "    print(y)\n",
        "\n",
        "foo() #this is a function call so it will print y"
      ],
      "execution_count": null,
      "outputs": [
        {
          "output_type": "stream",
          "name": "stdout",
          "text": [
            "local\n"
          ]
        }
      ]
    },
    {
      "cell_type": "code",
      "metadata": {
        "id": "4t83daaEUmSO",
        "colab": {
          "base_uri": "https://localhost:8080/"
        },
        "outputId": "d3bb29f5-11f0-41e9-857e-50658b396eae"
      },
      "source": [
        "def shopping_list():\n",
        "    fruit = ['apple', 'banana']\n",
        "    print(fruit)\n",
        "    \n",
        "shopping_list() # will  print the list"
      ],
      "execution_count": null,
      "outputs": [
        {
          "output_type": "stream",
          "name": "stdout",
          "text": [
            "['apple', 'banana']\n"
          ]
        }
      ]
    },
    {
      "cell_type": "code",
      "metadata": {
        "id": "tz-Ojxg6Utp-",
        "colab": {
          "base_uri": "https://localhost:8080/"
        },
        "outputId": "f9731d7e-351b-4d87-ad05-453118d32bef"
      },
      "source": [
        "#What if?\n",
        "\n",
        "def shopping_list():\n",
        "    fruit = ['apple', 'banana']\n",
        "    \n",
        "shopping_list()\n",
        "print(fruit) #the fruit that's inside the function isn't accesable"
      ],
      "execution_count": null,
      "outputs": [
        {
          "output_type": "stream",
          "name": "stdout",
          "text": [
            "['pineapple', 'grapes', 'apple', 'banana']\n"
          ]
        }
      ]
    },
    {
      "cell_type": "markdown",
      "metadata": {
        "id": "PhTp8-fWTAkD"
      },
      "source": [
        "##global and local variables"
      ]
    },
    {
      "cell_type": "code",
      "metadata": {
        "id": "219Nc2g-M93n",
        "colab": {
          "base_uri": "https://localhost:8080/"
        },
        "outputId": "28f22abb-36e1-4646-de7b-372d44c8524a"
      },
      "source": [
        "#(Example 4) Using global and local variables in the same code\n",
        "\n",
        "x = \"global \"\n",
        "\n",
        "def foo():\n",
        "    global x\n",
        "    y = \"local\"\n",
        "    x = x * 2 #x is global so this will work\n",
        "    print(x)\n",
        "    print(y)\n",
        "\n",
        "foo()"
      ],
      "execution_count": null,
      "outputs": [
        {
          "output_type": "stream",
          "name": "stdout",
          "text": [
            "global global \n",
            "local\n"
          ]
        }
      ]
    },
    {
      "cell_type": "code",
      "metadata": {
        "id": "NtOG0GlzTPvL",
        "colab": {
          "base_uri": "https://localhost:8080/"
        },
        "outputId": "8242ae4d-82f7-45cf-ee2d-e356d360a2a6"
      },
      "source": [
        "# (Example 5) global variable and local variable with same name\n",
        "\n",
        "x = 5\n",
        "\n",
        "def foo():\n",
        "    x = 10\n",
        "    print(\"local x:\", x)  #will read the x that's inside the function\n",
        "\n",
        "\n",
        "foo()\n",
        "print(\"global x:\", x) #will read the x outside of the function"
      ],
      "execution_count": null,
      "outputs": [
        {
          "output_type": "stream",
          "name": "stdout",
          "text": [
            "local x: 10\n",
            "global x: 5\n"
          ]
        }
      ]
    },
    {
      "cell_type": "markdown",
      "metadata": {
        "id": "hc5OPBOqTdTz"
      },
      "source": [
        "##nonlocal variable"
      ]
    },
    {
      "cell_type": "code",
      "metadata": {
        "id": "i0eoSo5vTiI6",
        "colab": {
          "base_uri": "https://localhost:8080/"
        },
        "outputId": "7f54e67e-f1ba-40f4-9302-f927901faab6"
      },
      "source": [
        "#(Example 6) Creating a nonlocal variable\n",
        "\n",
        "def outer():\n",
        "    x = \"local\"\n",
        "\n",
        "    def inner():\n",
        "        nonlocal x\n",
        "        x = \"nonlocal\"\n",
        "        print(\"inner:\", x) #the nested function's x\n",
        "\n",
        "    inner()\n",
        "    print(\"outer:\", x) #the x in the outer function\n",
        "\n",
        "outer()\n"
      ],
      "execution_count": null,
      "outputs": [
        {
          "output_type": "stream",
          "name": "stdout",
          "text": [
            "inner: nonlocal\n",
            "outer: nonlocal\n"
          ]
        }
      ]
    },
    {
      "cell_type": "code",
      "metadata": {
        "id": "ENdZH4LwV1uf",
        "colab": {
          "base_uri": "https://localhost:8080/"
        },
        "outputId": "326d81a3-3fdd-4f32-dcd8-39d6ddb98d66"
      },
      "source": [
        "def shopping_bill(promo=False):\n",
        "    items_prices = [10, 5, 20, 2, 8]  #the cost of each item they bought\n",
        "    pct_off = 0   # no promo, so no discount\n",
        "\n",
        "    def half_off():       #promo discount\n",
        "        nonlocal pct_off\n",
        "        pct_off = .50\n",
        "\n",
        "    if promo:          #promo is true so they get the discount\n",
        "        half_off()\n",
        "\n",
        "    total = sum(items_prices) - (sum(items_prices) * pct_off)\n",
        "    print(total)\n",
        "    \n",
        "shopping_bill(True) # total = 45 - (45 * .5) = 22.5\n",
        "\n"
      ],
      "execution_count": null,
      "outputs": [
        {
          "output_type": "stream",
          "name": "stdout",
          "text": [
            "22.5\n"
          ]
        }
      ]
    },
    {
      "cell_type": "code",
      "metadata": {
        "id": "x_7f0mGiWTQA",
        "colab": {
          "base_uri": "https://localhost:8080/",
          "height": 194
        },
        "outputId": "978c1d10-83ae-4cba-b6f0-0c69447d2194"
      },
      "source": [
        "#What if you try to print 'pct_off' outside of the shooping bill method?\n",
        "print(pct_off) #pct_off is not accessable outside of the function, so there will be an error\n"
      ],
      "execution_count": null,
      "outputs": [
        {
          "output_type": "error",
          "ename": "NameError",
          "evalue": "ignored",
          "traceback": [
            "\u001b[0;31m---------------------------------------------------------------------------\u001b[0m",
            "\u001b[0;31mNameError\u001b[0m                                 Traceback (most recent call last)",
            "\u001b[0;32m<ipython-input-12-18ea6c97a206>\u001b[0m in \u001b[0;36m<module>\u001b[0;34m()\u001b[0m\n\u001b[1;32m      1\u001b[0m \u001b[0;31m#What if you try to print 'pct_off' outside of the shooping bill method?\u001b[0m\u001b[0;34m\u001b[0m\u001b[0;34m\u001b[0m\u001b[0;34m\u001b[0m\u001b[0m\n\u001b[0;32m----> 2\u001b[0;31m \u001b[0mprint\u001b[0m\u001b[0;34m(\u001b[0m\u001b[0mpct_off\u001b[0m\u001b[0;34m)\u001b[0m\u001b[0;34m\u001b[0m\u001b[0;34m\u001b[0m\u001b[0m\n\u001b[0m",
            "\u001b[0;31mNameError\u001b[0m: name 'pct_off' is not defined"
          ]
        }
      ]
    },
    {
      "cell_type": "code",
      "metadata": {
        "id": "6InNNOGgXA_C",
        "colab": {
          "base_uri": "https://localhost:8080/"
        },
        "outputId": "19072257-cbf8-4b78-800f-8c899357445a"
      },
      "source": [
        "#What if you use the 'global' keyword instead of the 'nonlocal' keyword?\n",
        "\n",
        "def shopping_bill(promo=False):\n",
        "    items_prices = [10, 5, 20, 2, 8]\n",
        "    pct_off = 0\n",
        "\n",
        "    def half_off():\n",
        "        global pct_off\n",
        "        pct_off = .50\n",
        "\n",
        "    if promo:\n",
        "        half_off()\n",
        "\n",
        "    total = sum(items_prices) - (sum(items_prices) * pct_off)\n",
        "    print(total)\n",
        "    \n",
        "shopping_bill(True)\n",
        "\n",
        "print(pct_off) #works because pct_off is a global variable, so accessable outside of the function"
      ],
      "execution_count": null,
      "outputs": [
        {
          "output_type": "stream",
          "name": "stdout",
          "text": [
            "45\n",
            "0.5\n"
          ]
        }
      ]
    },
    {
      "cell_type": "code",
      "metadata": {
        "id": "MVsgze3_XjiE"
      },
      "source": [
        ""
      ],
      "execution_count": null,
      "outputs": []
    }
  ]
}