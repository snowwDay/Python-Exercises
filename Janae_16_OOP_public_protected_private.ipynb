{
  "nbformat": 4,
  "nbformat_minor": 0,
  "metadata": {
    "colab": {
      "name": "Janae_16_OOP_public_protected_private.ipynb",
      "provenance": [],
      "collapsed_sections": []
    },
    "kernelspec": {
      "name": "python3",
      "display_name": "Python 3"
    },
    "language_info": {
      "name": "python"
    }
  },
  "cells": [
    {
      "cell_type": "markdown",
      "metadata": {
        "id": "OQMVy9msjtjE"
      },
      "source": [
        "#Janae Courtney"
      ]
    },
    {
      "cell_type": "markdown",
      "metadata": {
        "id": "BidfB2o49aFk"
      },
      "source": [
        "##Resource\n",
        "1. https://www.geeksforgeeks.org/protected-variable-in-python/\n",
        "2. https://www.geeksforgeeks.org/underscore-_-python/\n",
        "3. https://www.geeksforgeeks.org/private-methods-in-python/\n",
        "4. https://www.geeksforgeeks.org/name-mangling-in-python/"
      ]
    },
    {
      "cell_type": "markdown",
      "metadata": {
        "id": "V_C_8ib4-p8H"
      },
      "source": [
        "#public vs. protected vs. private"
      ]
    },
    {
      "cell_type": "markdown",
      "metadata": {
        "id": "TynTjm4vQD5U"
      },
      "source": [
        "##protected"
      ]
    },
    {
      "cell_type": "code",
      "metadata": {
        "id": "n6NZNJKFLvbi"
      },
      "source": [
        "# program to illustrate protected data members in a class\n",
        "\n",
        "# Defining a class\n",
        "class Student:\n",
        "\t\n",
        "\t# protected data members\n",
        "\t_name = \"Sammy Houston\"\n",
        "\t_year = 2021\n",
        "\t\n",
        "\t# public member function\n",
        "\tdef displayNameAndYear(self):\n",
        "\n",
        "\t\t# accessing protected data members\n",
        "\t\tprint(\"Name: \", self._name)\n",
        "\t\tprint(\"Year: \", self._year)\n"
      ],
      "execution_count": null,
      "outputs": []
    },
    {
      "cell_type": "code",
      "metadata": {
        "id": "ugO9GhIqMZ_1",
        "colab": {
          "base_uri": "https://localhost:8080/"
        },
        "outputId": "afa0a56c-fd2a-48e4-8320-49aefd127455"
      },
      "source": [
        "# creating an instance of the class\t\t\n",
        "inst = Student()\n",
        "\n",
        "# calling a public instance member function of the class\n",
        "inst.displayNameAndYear()\n"
      ],
      "execution_count": null,
      "outputs": [
        {
          "output_type": "stream",
          "name": "stdout",
          "text": [
            "Name:  Sammy Houston\n",
            "Year:  2021\n"
          ]
        }
      ]
    },
    {
      "cell_type": "code",
      "metadata": {
        "id": "IbOlxIcGMl_M"
      },
      "source": [
        "# program to illustrate protected data members in a class\n",
        "\n",
        "# super class\n",
        "class Shape:\n",
        "\t\n",
        "\t# constructor\n",
        "\tdef __init__(self, length, breadth):\n",
        "\t\tself._length = length\n",
        "\t\tself._breadth = breadth\n",
        "\t\t\n",
        "\t# public member function\n",
        "\tdef displaySides(self):\n",
        "\t\t# accessing protected data members\n",
        "\t\tprint(\"Length:  \", self._length)\n",
        "\t\tprint(\"Breadth: \", self._breadth)\n",
        "\n",
        "\n",
        "# derived class\n",
        "class Rectangle(Shape):\n",
        "\n",
        "\t# constructor\n",
        "\tdef __init__(self, length, breadth):\n",
        "\t\t# Calling the constructor of\n",
        "\t\t# Super class\n",
        "\t\tShape.__init__(self, length, breadth)\n",
        "\t\t\n",
        "\t# public member function\n",
        "\tdef calculateArea(self):\n",
        "\t\t# accessing protected data members of super class\n",
        "\t\tprint(\"Area:    \", self._length * self._breadth)\n",
        "\t\t\t\t\t"
      ],
      "execution_count": null,
      "outputs": []
    },
    {
      "cell_type": "code",
      "metadata": {
        "id": "OcV_775-MuRV",
        "colab": {
          "base_uri": "https://localhost:8080/"
        },
        "outputId": "204fa7bf-b100-4c9c-bd0c-0d8fe3a72a4a"
      },
      "source": [
        "# creating an instance of the derived class\t\t\n",
        "obj = Rectangle(80, 50)\n",
        "\n",
        "# calling the derived member function of the class\n",
        "obj.displaySides()\n",
        "\n",
        "# calling the public member functions of the class\n",
        "obj.calculateArea()"
      ],
      "execution_count": null,
      "outputs": [
        {
          "output_type": "stream",
          "name": "stdout",
          "text": [
            "Length:   80\n",
            "Breadth:  50\n",
            "Area:     4000\n"
          ]
        }
      ]
    },
    {
      "cell_type": "markdown",
      "metadata": {
        "id": "4REu7KdX3IZE"
      },
      "source": [
        "##private"
      ]
    },
    {
      "cell_type": "code",
      "metadata": {
        "id": "219Nc2g-M93n"
      },
      "source": [
        "# Python program to demonstrate private methods\n",
        "\n",
        "# Creating a Base class\n",
        "class Base:\n",
        "\n",
        "\t# Declaring public method\n",
        "\tdef fun(self):\n",
        "\t\tprint(\"Public method\")\n",
        "\n",
        "\t# Declaring private method\n",
        "\tdef __fun(self):\n",
        "\t\tprint(\"Private method\")\n",
        "\n",
        "\n",
        "# Creating a derived class\n",
        "class Derived(Base):\n",
        "\n",
        "\tdef __init__(self):\n",
        "\t\t# Calling constructor of\n",
        "\t\t# Base class\n",
        "\t\tBase.__init__(self)\n",
        "\t\t\n",
        "\tdef call_public(self):\n",
        "\t\t# Calling public method of base class\n",
        "\t\tprint(\"\\nInside derived class\")\n",
        "\t\tself.fun()\n",
        "\t\t\n",
        "\tdef call_private(self):\n",
        "\t\t# Calling private method of base class\n",
        "\t\tself.__fun()\n"
      ],
      "execution_count": null,
      "outputs": []
    },
    {
      "cell_type": "code",
      "metadata": {
        "id": "G1GdTV_a4iG4",
        "colab": {
          "base_uri": "https://localhost:8080/"
        },
        "outputId": "1a3e99f0-47c8-4698-a3ac-86cb6046a115"
      },
      "source": [
        "# Instanciation\n",
        "obj1 = Base()\n",
        "\n",
        "# Calling public method\n",
        "obj1.fun()\n",
        "\n",
        "obj2 = Derived()\n",
        "obj2.call_public()\n"
      ],
      "execution_count": null,
      "outputs": [
        {
          "output_type": "stream",
          "name": "stdout",
          "text": [
            "Public method\n",
            "\n",
            "Inside derived class\n",
            "Public method\n"
          ]
        }
      ]
    },
    {
      "cell_type": "code",
      "metadata": {
        "id": "cRCzNhUm37BR",
        "colab": {
          "base_uri": "https://localhost:8080/",
          "height": 306
        },
        "outputId": "f3cb003c-8c34-4eeb-e6aa-5246516470d5"
      },
      "source": [
        "#What if?\n",
        "#obj1.__fun() # error obj1 is an instance of the Base class, which doesn't have __fun().\n",
        "\n",
        "#What if?\n",
        "obj2.call_private() #There is no __fun() for Derived so this will not work"
      ],
      "execution_count": null,
      "outputs": [
        {
          "output_type": "error",
          "ename": "AttributeError",
          "evalue": "ignored",
          "traceback": [
            "\u001b[0;31m---------------------------------------------------------------------------\u001b[0m",
            "\u001b[0;31mAttributeError\u001b[0m                            Traceback (most recent call last)",
            "\u001b[0;32m<ipython-input-18-1ea8335bfe64>\u001b[0m in \u001b[0;36m<module>\u001b[0;34m()\u001b[0m\n\u001b[1;32m      3\u001b[0m \u001b[0;34m\u001b[0m\u001b[0m\n\u001b[1;32m      4\u001b[0m \u001b[0;31m#What if?\u001b[0m\u001b[0;34m\u001b[0m\u001b[0;34m\u001b[0m\u001b[0;34m\u001b[0m\u001b[0m\n\u001b[0;32m----> 5\u001b[0;31m \u001b[0mobj2\u001b[0m\u001b[0;34m.\u001b[0m\u001b[0mcall_private\u001b[0m\u001b[0;34m(\u001b[0m\u001b[0;34m)\u001b[0m \u001b[0;31m#\u001b[0m\u001b[0;34m\u001b[0m\u001b[0;34m\u001b[0m\u001b[0m\n\u001b[0m",
            "\u001b[0;32m<ipython-input-6-e3f2dcde85b2>\u001b[0m in \u001b[0;36mcall_private\u001b[0;34m(self)\u001b[0m\n\u001b[1;32m     28\u001b[0m         \u001b[0;32mdef\u001b[0m \u001b[0mcall_private\u001b[0m\u001b[0;34m(\u001b[0m\u001b[0mself\u001b[0m\u001b[0;34m)\u001b[0m\u001b[0;34m:\u001b[0m\u001b[0;34m\u001b[0m\u001b[0;34m\u001b[0m\u001b[0m\n\u001b[1;32m     29\u001b[0m                 \u001b[0;31m# Calling private method of base class\u001b[0m\u001b[0;34m\u001b[0m\u001b[0;34m\u001b[0m\u001b[0;34m\u001b[0m\u001b[0m\n\u001b[0;32m---> 30\u001b[0;31m                 \u001b[0mself\u001b[0m\u001b[0;34m.\u001b[0m\u001b[0m__fun\u001b[0m\u001b[0;34m(\u001b[0m\u001b[0;34m)\u001b[0m\u001b[0;34m\u001b[0m\u001b[0;34m\u001b[0m\u001b[0m\n\u001b[0m",
            "\u001b[0;31mAttributeError\u001b[0m: 'Derived' object has no attribute '_Derived__fun'"
          ]
        }
      ]
    },
    {
      "cell_type": "code",
      "metadata": {
        "id": "C-DDt5ca8p5O"
      },
      "source": [
        "# Python program to demonstrate private methods\n",
        "\n",
        "# Defining a class\n",
        "class A:\n",
        "\n",
        "\t# Declaring public method\n",
        "\tdef fun(self):\n",
        "\t\tprint(\"Public method\")\n",
        "\n",
        "\t# Declaring private method\n",
        "\tdef __fun(self):\n",
        "\t\tprint(\"Private method\")\n",
        "\t\n",
        "\t# Calling private method via another method\n",
        "\tdef help(self):\n",
        "\t\tself.fun()\n",
        "\t\tself.__fun()\n",
        "\t\t"
      ],
      "execution_count": null,
      "outputs": []
    },
    {
      "cell_type": "code",
      "metadata": {
        "id": "a18tkDMo9gZW",
        "colab": {
          "base_uri": "https://localhost:8080/"
        },
        "outputId": "722ebf84-926f-4785-8969-eeed28f0dad4"
      },
      "source": [
        "# Instanciating and calling a public method.\n",
        "obj = A()\n",
        "obj.help()"
      ],
      "execution_count": null,
      "outputs": [
        {
          "output_type": "stream",
          "name": "stdout",
          "text": [
            "Public method\n",
            "Private method\n"
          ]
        }
      ]
    },
    {
      "cell_type": "code",
      "metadata": {
        "id": "RCMh1Jh99bFY",
        "colab": {
          "base_uri": "https://localhost:8080/",
          "height": 213
        },
        "outputId": "8a3219bc-245f-4ed7-d7c7-3ffb2303fea5"
      },
      "source": [
        "#What if?\n",
        "#obj.fun() will print public method\n",
        "#obj.fun(10) extra parameter since it automatically gives one already\n",
        "#obj.__fun() private, not accessable\n",
        "#obj.__fun(10) private, not accesable"
      ],
      "execution_count": null,
      "outputs": [
        {
          "output_type": "error",
          "ename": "AttributeError",
          "evalue": "ignored",
          "traceback": [
            "\u001b[0;31m---------------------------------------------------------------------------\u001b[0m",
            "\u001b[0;31mAttributeError\u001b[0m                            Traceback (most recent call last)",
            "\u001b[0;32m<ipython-input-30-a37bff1be7e5>\u001b[0m in \u001b[0;36m<module>\u001b[0;34m()\u001b[0m\n\u001b[1;32m      3\u001b[0m \u001b[0;31m#obj.fun(10) extra parameter since it automatically gives one already\u001b[0m\u001b[0;34m\u001b[0m\u001b[0;34m\u001b[0m\u001b[0;34m\u001b[0m\u001b[0m\n\u001b[1;32m      4\u001b[0m \u001b[0;31m#obj.__fun() privat\u001b[0m\u001b[0;34m\u001b[0m\u001b[0;34m\u001b[0m\u001b[0;34m\u001b[0m\u001b[0m\n\u001b[0;32m----> 5\u001b[0;31m \u001b[0mobj\u001b[0m\u001b[0;34m.\u001b[0m\u001b[0m__fun\u001b[0m\u001b[0;34m(\u001b[0m\u001b[0;36m10\u001b[0m\u001b[0;34m)\u001b[0m\u001b[0;34m\u001b[0m\u001b[0;34m\u001b[0m\u001b[0m\n\u001b[0m",
            "\u001b[0;31mAttributeError\u001b[0m: 'A' object has no attribute '__fun'"
          ]
        }
      ]
    },
    {
      "cell_type": "code",
      "metadata": {
        "id": "gDyzdzoM86wV",
        "colab": {
          "base_uri": "https://localhost:8080/",
          "height": 344
        },
        "outputId": "0ad5600c-9105-495c-da5b-1505c9f8ae7d"
      },
      "source": [
        "#Again, what if?\n",
        "#A.fun() Error,Has a parameter\n",
        "#A.fun(10) Prints public method\n",
        "#A.__fun() error, the method is private\n",
        "#A.__fun(10) private\n",
        "#A.help() missing parameter\n",
        "#A.help(10) hellp function takes a class object (A)"
      ],
      "execution_count": null,
      "outputs": [
        {
          "output_type": "error",
          "ename": "AttributeError",
          "evalue": "ignored",
          "traceback": [
            "\u001b[0;31m---------------------------------------------------------------------------\u001b[0m",
            "\u001b[0;31mAttributeError\u001b[0m                            Traceback (most recent call last)",
            "\u001b[0;32m<ipython-input-37-896291afd329>\u001b[0m in \u001b[0;36m<module>\u001b[0;34m()\u001b[0m\n\u001b[1;32m      5\u001b[0m \u001b[0;31m#A.__fun(10) private\u001b[0m\u001b[0;34m\u001b[0m\u001b[0;34m\u001b[0m\u001b[0;34m\u001b[0m\u001b[0m\n\u001b[1;32m      6\u001b[0m \u001b[0;31m#A.help() missing parameter\u001b[0m\u001b[0;34m\u001b[0m\u001b[0;34m\u001b[0m\u001b[0;34m\u001b[0m\u001b[0m\n\u001b[0;32m----> 7\u001b[0;31m \u001b[0mA\u001b[0m\u001b[0;34m.\u001b[0m\u001b[0mhelp\u001b[0m\u001b[0;34m(\u001b[0m\u001b[0;36m10\u001b[0m\u001b[0;34m)\u001b[0m\u001b[0;34m\u001b[0m\u001b[0;34m\u001b[0m\u001b[0m\n\u001b[0m",
            "\u001b[0;32m<ipython-input-19-de86cd7b043f>\u001b[0m in \u001b[0;36mhelp\u001b[0;34m(self)\u001b[0m\n\u001b[1;32m     14\u001b[0m         \u001b[0;31m# Calling private method via another method\u001b[0m\u001b[0;34m\u001b[0m\u001b[0;34m\u001b[0m\u001b[0;34m\u001b[0m\u001b[0m\n\u001b[1;32m     15\u001b[0m         \u001b[0;32mdef\u001b[0m \u001b[0mhelp\u001b[0m\u001b[0;34m(\u001b[0m\u001b[0mself\u001b[0m\u001b[0;34m)\u001b[0m\u001b[0;34m:\u001b[0m\u001b[0;34m\u001b[0m\u001b[0;34m\u001b[0m\u001b[0m\n\u001b[0;32m---> 16\u001b[0;31m                 \u001b[0mself\u001b[0m\u001b[0;34m.\u001b[0m\u001b[0mfun\u001b[0m\u001b[0;34m(\u001b[0m\u001b[0;34m)\u001b[0m\u001b[0;34m\u001b[0m\u001b[0;34m\u001b[0m\u001b[0m\n\u001b[0m\u001b[1;32m     17\u001b[0m                 \u001b[0mself\u001b[0m\u001b[0;34m.\u001b[0m\u001b[0m__fun\u001b[0m\u001b[0;34m(\u001b[0m\u001b[0;34m)\u001b[0m\u001b[0;34m\u001b[0m\u001b[0;34m\u001b[0m\u001b[0m\n\u001b[1;32m     18\u001b[0m \u001b[0;34m\u001b[0m\u001b[0m\n",
            "\u001b[0;31mAttributeError\u001b[0m: 'int' object has no attribute 'fun'"
          ]
        }
      ]
    },
    {
      "cell_type": "markdown",
      "metadata": {
        "id": "UF2ea4v09uLv"
      },
      "source": [
        "##Name mangling\n",
        "* used to call a private method outside the class"
      ]
    },
    {
      "cell_type": "code",
      "metadata": {
        "id": "KlV8obMV-HHI"
      },
      "source": [
        "# Python program to demonstrate name mangling\n",
        "\n",
        "# Defining a class\n",
        "class A:\n",
        "\n",
        "  # Declaring public method\n",
        "  def fun(self):\n",
        "    print(\"Public method\")\n",
        "\n",
        "  # Declaring private method\n",
        "  def __fun(self):\n",
        "    print(\"Private instance method\")\n",
        "   \n",
        "  def __fun1():\n",
        "    print(\"Private class method\")  \t\n",
        "\n"
      ],
      "execution_count": null,
      "outputs": []
    },
    {
      "cell_type": "code",
      "metadata": {
        "colab": {
          "base_uri": "https://localhost:8080/"
        },
        "id": "bXSJIsYg-Vto",
        "outputId": "7d2ae018-90a1-4f8a-927f-411ffdd54546"
      },
      "source": [
        "# Instanciation\n",
        "obj = A()\n",
        "\n",
        "print(dir(obj)) #returns attributes that belong to obj\n"
      ],
      "execution_count": null,
      "outputs": [
        {
          "output_type": "stream",
          "name": "stdout",
          "text": [
            "['_A__fun', '_A__fun1', '__class__', '__delattr__', '__dict__', '__dir__', '__doc__', '__eq__', '__format__', '__ge__', '__getattribute__', '__gt__', '__hash__', '__init__', '__init_subclass__', '__le__', '__lt__', '__module__', '__ne__', '__new__', '__reduce__', '__reduce_ex__', '__repr__', '__setattr__', '__sizeof__', '__str__', '__subclasshook__', '__weakref__', 'fun']\n"
          ]
        }
      ]
    },
    {
      "cell_type": "code",
      "metadata": {
        "colab": {
          "base_uri": "https://localhost:8080/"
        },
        "id": "0f-WrLUaAuI2",
        "outputId": "db58bbfe-8b4c-4c34-928c-dfe19d0e80a2"
      },
      "source": [
        "# Calling the private member through name mangling\n",
        "#(QUESTION) Why do we need this?\n",
        "\n",
        "obj._A__fun() #to access methods that are inside of the class"
      ],
      "execution_count": null,
      "outputs": [
        {
          "output_type": "stream",
          "name": "stdout",
          "text": [
            "Private instance method\n"
          ]
        }
      ]
    },
    {
      "cell_type": "code",
      "metadata": {
        "id": "EOMBiGUnBCIn",
        "colab": {
          "base_uri": "https://localhost:8080/"
        },
        "outputId": "942f7f8c-39c0-492c-a633-f28a384cd7ff"
      },
      "source": [
        "#What if?\n",
        "#obj.__fun1() error, the function is inaccessable\n",
        "#obj._A__fun1() error, the function doesn't take any parameters\n",
        "#A.__fun1() error, inaccessable\n",
        "#A._A__fun1() will work, prints private class method"
      ],
      "execution_count": null,
      "outputs": [
        {
          "output_type": "stream",
          "name": "stdout",
          "text": [
            "Private class method\n"
          ]
        }
      ]
    },
    {
      "cell_type": "code",
      "metadata": {
        "id": "q-uuC9JKBYHx",
        "colab": {
          "base_uri": "https://localhost:8080/"
        },
        "outputId": "ca31d742-1d77-4794-bdaf-21e99456685c"
      },
      "source": [
        "#What you need to change so that you can use the statement below?\n",
        "A._A__fun1() #maybe change the fucntion so it accepts a parameter, so it can be used with an instance of A\n",
        "            # or make it non private"
      ],
      "execution_count": null,
      "outputs": [
        {
          "output_type": "stream",
          "name": "stdout",
          "text": [
            "Private class method\n"
          ]
        }
      ]
    },
    {
      "cell_type": "code",
      "metadata": {
        "id": "qslY2sGpBt-i"
      },
      "source": [
        ""
      ],
      "execution_count": null,
      "outputs": []
    }
  ]
}