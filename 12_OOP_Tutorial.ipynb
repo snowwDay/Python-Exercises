{
  "nbformat": 4,
  "nbformat_minor": 0,
  "metadata": {
    "colab": {
      "name": "12_OOP_Tutorial.ipynb",
      "provenance": [],
      "collapsed_sections": []
    },
    "kernelspec": {
      "name": "python3",
      "display_name": "Python 3"
    },
    "language_info": {
      "name": "python"
    }
  },
  "cells": [
    {
      "cell_type": "markdown",
      "metadata": {
        "id": "3nS_n38utk-u"
      },
      "source": [
        "##Python OOP Tutorials\n",
        "\n",
        "1. Python OOP 1 - Classes and Instances - https://youtu.be/ZDa-Z5JzLYM\n",
        "2. Python OOP 2 - Class Variables - https://youtu.be/BJ-VvGyQxho\n",
        "3. Python OOP 3 - Classmethods and Staticmethods - https://youtu.be/rq8cL2XMM5M\n",
        "4. Python OOP 4 - Inheritance - https://youtu.be/RSl87lqOXDE\n",
        "5. Python OOP 5 - Special (Magic/Dunder) Methods - https://youtu.be/3ohzBxoFHAY\n",
        "6. Python OOP 6 - Property Decorators - https://youtu.be/jCzT9XFZ5bw\n",
        "\n",
        "* The code from this video can be found at:\n",
        "https://github.com/CoreyMSchafer/code_snippets/tree/master/Object-Oriented\n"
      ]
    },
    {
      "cell_type": "markdown",
      "metadata": {
        "id": "8cA6Qmw-hX-V"
      },
      "source": [
        "##1. Python OOP 1 - Classes and Instances - https://youtu.be/ZDa-Z5JzLYM\n",
        "\n"
      ]
    },
    {
      "cell_type": "markdown",
      "metadata": {
        "id": "pqP-z5qpE3j3"
      },
      "source": [
        "#Janae Courtney"
      ]
    },
    {
      "cell_type": "code",
      "metadata": {
        "id": "_u5FbdFhGHs5"
      },
      "source": [
        "class Employee:\n",
        "  pass\n",
        "\n",
        "#Instances of class Employee\n",
        "emp_1 = Employee()\n",
        "emp_2 = Employee()\n",
        "\n",
        "print(emp_1)\n",
        "print(emp_2)\n",
        "\n",
        "#Attributes\n",
        "emp_1.first = \"Sammy\"\n",
        "emp_1.last = 'Houston'\n",
        "emp_1.email = 'SammyHouston@shsu.edu'\n",
        "emp_1.pay = 70000\n",
        "\n",
        "emp_2.first = \"Sam\"\n",
        "emp_2.last = 'Houston'\n",
        "emp_2.email = 'SamHouston@shsu.edu'\n",
        "emp_2.pay = 60000\n",
        "\n",
        "print(emp_1.email)\n",
        "print(emp_2.email)\n"
      ],
      "execution_count": null,
      "outputs": []
    },
    {
      "cell_type": "code",
      "metadata": {
        "colab": {
          "base_uri": "https://localhost:8080/"
        },
        "id": "AJ7FyG5JDkTD",
        "outputId": "d9095707-98e7-4cec-f63b-eee8b8e7531d"
      },
      "source": [
        "class Employee:\n",
        "\n",
        "    def __init__(self, first, last, pay): #self can be named whatever you want, but self is more conventional. self is the instance\n",
        "        #attributes\n",
        "        self.first = first\n",
        "        self.last = last\n",
        "        self.email = first + '.' + last + '@email.com'\n",
        "        self.pay = pay\n",
        "\n",
        "    #method for full name of Employee\n",
        "    def fullname(self):  #Don't forget to include self. It will lead to a type error.\n",
        "        return '{} {}'.format(self.first, self.last)\n",
        "\n",
        "emp_1 = Employee('Sammy', 'Houston', 50000)\n",
        "emp_2 = Employee('Sam', 'Houston', 60000)\n",
        "\n",
        "print(emp_1.email)\n",
        "print(emp_2.email)\n",
        "\n",
        "print('{} {}'.format(emp_1.first, emp_1.last))\n",
        "print(f'{emp_1.first} {emp_1.last}')\n",
        "\n",
        "print(emp_1.fullname())\n",
        "print(Employee.fullname(emp_1))"
      ],
      "execution_count": null,
      "outputs": [
        {
          "output_type": "stream",
          "name": "stdout",
          "text": [
            "Sammy.Houston@email.com\n",
            "Sam.Houston@email.com\n",
            "Sammy Houston\n",
            "Sammy Houston\n",
            "Sammy Houston\n",
            "Sammy Houston\n"
          ]
        }
      ]
    },
    {
      "cell_type": "code",
      "metadata": {
        "colab": {
          "base_uri": "https://localhost:8080/"
        },
        "id": "ylTkWv0EIuiu",
        "outputId": "3c9c9625-cb69-4746-fd60-426f29b9d71a"
      },
      "source": [
        "class Employee:\n",
        "\n",
        "    def __init__(abc, first, last, pay):\n",
        "        abc.first = first\n",
        "        abc.last = last\n",
        "        abc.email = first + '.' + last + '@email.com'\n",
        "        abc.pay = pay\n",
        "\n",
        "    def fullname(temp):\n",
        "        return '{} {}'.format(temp.first, temp.last)\n",
        "\n",
        "emp_1 = Employee('Sammy', 'Houston', 50000)\n",
        "emp_2 = Employee('Sam', 'Houston', 60000)\n",
        "\n",
        "print(emp_1.email)\n",
        "print(emp_2.email)\n",
        "\n",
        "print('{} {}'.format(emp_1.first, emp_1.last))\n",
        "print(f'{emp_1.first} {emp_1.last}')\n",
        "\n",
        "print(emp_1.fullname())\n",
        "print(Employee.fullname(emp_1))"
      ],
      "execution_count": null,
      "outputs": [
        {
          "output_type": "stream",
          "name": "stdout",
          "text": [
            "Sammy.Houston@email.com\n",
            "Sam.Houston@email.com\n",
            "Sammy Houston\n",
            "Sammy Houston\n",
            "Sammy Houston\n",
            "Sammy Houston\n"
          ]
        }
      ]
    },
    {
      "cell_type": "markdown",
      "metadata": {
        "id": "A-VWanOPCrcB"
      },
      "source": [
        "##2. Python OOP 2 - Class Variables - https://youtu.be/BJ-VvGyQxho\n"
      ]
    },
    {
      "cell_type": "code",
      "metadata": {
        "colab": {
          "base_uri": "https://localhost:8080/"
        },
        "id": "p8h3nbj9D1zc",
        "outputId": "0e1b0fb3-a931-4fa0-a999-c918a1de01e5"
      },
      "source": [
        "class Employee:\n",
        "    \n",
        "    def __init__(self, first, last, pay):\n",
        "        self.first = first\n",
        "        self.last = last\n",
        "        self.email = first + '.' + last + '@email.com'\n",
        "        self.pay = pay\n",
        "\n",
        "    def fullname(self):\n",
        "        return '{} {}'.format(self.first, self.last)\n",
        "\n",
        "    def apply_raise(self):\n",
        "        self.pay = int(self.pay * 1.04)\n",
        "\n",
        "emp_1 = Employee('Sammy', 'Houston', 50000)\n",
        "emp_2 = Employee('Sam', 'Houston', 60000)\n",
        "\n",
        "#Employee.pay will run but will not get the pay of the instance\n",
        "\n",
        "print(emp_1.pay)\n",
        "print(emp_2.pay)\n",
        "\n",
        "emp_1.apply_raise()\n",
        "print(emp_1.pay)\n",
        "\n",
        "print(Employee.__dict__) #dictionoary with the classes atrributes"
      ],
      "execution_count": null,
      "outputs": [
        {
          "output_type": "stream",
          "name": "stdout",
          "text": [
            "50000\n",
            "60000\n",
            "52000\n",
            "{'__module__': '__main__', '__init__': <function Employee.__init__ at 0x7fd1d6cdf320>, 'fullname': <function Employee.fullname at 0x7fd1d6cdf0e0>, 'apply_raise': <function Employee.apply_raise at 0x7fd1d6cdfb00>, '__dict__': <attribute '__dict__' of 'Employee' objects>, '__weakref__': <attribute '__weakref__' of 'Employee' objects>, '__doc__': None}\n"
          ]
        }
      ]
    },
    {
      "cell_type": "code",
      "metadata": {
        "colab": {
          "base_uri": "https://localhost:8080/"
        },
        "id": "VWnVcrwKFsY0",
        "outputId": "a74cb0dc-2189-43cd-bc6e-2fe2cde56a63"
      },
      "source": [
        "class Employee:\n",
        "\n",
        "    num_of_emps = 0\n",
        "    raise_amt = 1.04\n",
        "\n",
        "  #Class variables should be something that will be shared with all instances\n",
        "    def __init__(self, first, last, pay):\n",
        "        self.first = first\n",
        "        self.last = last\n",
        "        self.email = first + '.' + last + '@email.com'\n",
        "        self.pay = pay\n",
        "\n",
        "        Employee.num_of_emps += 1\n",
        "\n",
        "    def fullname(self):\n",
        "        return '{} {}'.format(self.first, self.last)\n",
        "\n",
        "    def apply_raise(self):\n",
        "        self.pay = int(self.pay * self.raise_amt)\n",
        "\n",
        "    @classmethod    #Will use the class variable\n",
        "    def set_raise_amt(cls, amount):\n",
        "        cls.raise_amt = amount\n",
        "\n",
        "    @classmethod\n",
        "    def from_string(cls, emp_str):\n",
        "        first, last, pay = emp_str.split('-')\n",
        "        return cls(first, last, pay)\n",
        "\n",
        "    @staticmethod\n",
        "    def is_workday(day):\n",
        "        if day.weekday() == 5 or day.weekday() == 6:\n",
        "            return False\n",
        "        return True\n",
        "\n",
        "\n",
        "emp_1 = Employee('Sammy', 'Houston', 50000)\n",
        "emp_2 = Employee('Sam', 'Houston', 60000)\n",
        "\n",
        "Employee.set_raise_amt(1.05) #Will change the raise amount for the class. Including all instances of the class.\n",
        "\n",
        "print(Employee.raise_amt)\n",
        "print(emp_1.raise_amt)\n",
        "print(emp_2.raise_amt)\n",
        "\n",
        "emp_str_1 = 'John-Doe-70000'\n",
        "emp_str_2 = 'Sam-Houston-30000'\n",
        "emp_str_3 = 'Jane-Doe-90000'\n",
        "\n",
        "first, last, pay = emp_str_1.split('-')\n",
        "\n",
        "#new_emp_1 = Employee(first, last, pay)\n",
        "new_emp_1 = Employee.from_string(emp_str_1)\n",
        "\n",
        "print(new_emp_1.email)\n",
        "print(new_emp_1.pay)\n",
        "\n",
        "import datetime\n",
        "my_date = datetime.date(2021, 10, 13)\n",
        "\n",
        "print(Employee.is_workday(my_date))"
      ],
      "execution_count": null,
      "outputs": [
        {
          "output_type": "stream",
          "name": "stdout",
          "text": [
            "1.05\n",
            "1.05\n",
            "1.05\n",
            "John.Doe@email.com\n",
            "70000\n",
            "True\n"
          ]
        }
      ]
    },
    {
      "cell_type": "markdown",
      "metadata": {
        "id": "icfWL1R6CrGI"
      },
      "source": [
        "##3. Python OOP 3 - Classmethods and Staticmethods - https://youtu.be/rq8cL2XMM5M\n",
        "\n"
      ]
    },
    {
      "cell_type": "code",
      "metadata": {
        "colab": {
          "base_uri": "https://localhost:8080/"
        },
        "id": "HYu6748AD8pT",
        "outputId": "a74cb0dc-2189-43cd-bc6e-2fe2cde56a63"
      },
      "source": [
        "class Employee:\n",
        "\n",
        "    num_of_emps = 0\n",
        "    raise_amt = 1.04\n",
        "\n",
        "    def __init__(self, first, last, pay):\n",
        "        self.first = first\n",
        "        self.last = last\n",
        "        self.email = first + '.' + last + '@email.com'\n",
        "        self.pay = pay\n",
        "\n",
        "        Employee.num_of_emps += 1\n",
        "\n",
        "    def fullname(self):\n",
        "        return '{} {}'.format(self.first, self.last)\n",
        "\n",
        "    def apply_raise(self):\n",
        "        self.pay = int(self.pay * self.raise_amt)\n",
        "\n",
        "    @classmethod    #Will use the class variable\n",
        "    def set_raise_amt(cls, amount):\n",
        "        cls.raise_amt = amount\n",
        "\n",
        "    @classmethod  #Method for parsing the string instead of hard coding it.\n",
        "    def from_string(cls, emp_str):\n",
        "        first, last, pay = emp_str.split('-')\n",
        "        return cls(first, last, pay)\n",
        "\n",
        "    @staticmethod #Doesn't pass the instance automatically\n",
        "    def is_workday(day):\n",
        "        if day.weekday() == 5 or day.weekday() == 6:\n",
        "            return False\n",
        "        return True\n",
        "#If not using class variables in the function, using static method is most likely more appropriate\n",
        "\n",
        "emp_1 = Employee('Sammy', 'Houston', 50000)\n",
        "emp_2 = Employee('Sam', 'Houston', 60000)\n",
        "\n",
        "Employee.set_raise_amt(1.05) #Will change the raise amount for the class. Including all instances of the class.\n",
        "\n",
        "print(Employee.raise_amt)\n",
        "print(emp_1.raise_amt)\n",
        "print(emp_2.raise_amt)\n",
        "\n",
        "emp_str_1 = 'John-Doe-70000'\n",
        "emp_str_2 = 'Sam-Houston-30000'\n",
        "emp_str_3 = 'Jane-Doe-90000'\n",
        "\n",
        "first, last, pay = emp_str_1.split('-') #splitting the string to get the variables that are seperated by the '-'\n",
        "\n",
        "#new_emp_1 = Employee(first, last, pay)\n",
        "new_emp_1 = Employee.from_string(emp_str_1)\n",
        "\n",
        "print(new_emp_1.email)\n",
        "print(new_emp_1.pay)\n",
        "\n",
        "import datetime\n",
        "my_date = datetime.date(2021, 10, 13)\n",
        "\n",
        "print(Employee.is_workday(my_date))"
      ],
      "execution_count": null,
      "outputs": [
        {
          "output_type": "stream",
          "name": "stdout",
          "text": [
            "1.05\n",
            "1.05\n",
            "1.05\n",
            "John.Doe@email.com\n",
            "70000\n",
            "True\n"
          ]
        }
      ]
    },
    {
      "cell_type": "markdown",
      "metadata": {
        "id": "x6NafDrMCq25"
      },
      "source": [
        "##4. Python OOP 4 - Inheritance - https://youtu.be/RSl87lqOXDE\n"
      ]
    },
    {
      "cell_type": "code",
      "metadata": {
        "colab": {
          "base_uri": "https://localhost:8080/"
        },
        "id": "zPN4TllVEInE",
        "outputId": "381bcace-b15a-419b-da60-99068ee94876"
      },
      "source": [
        "class Employee:\n",
        "\n",
        "    raise_amt = 1.04\n",
        "      #The variables will be shared with the subclasses\n",
        "    def __init__(self, first, last, pay):\n",
        "        self.first = first\n",
        "        self.last = last\n",
        "        self.email = first + '.' + last + '@email.com'\n",
        "        self.pay = pay\n",
        "\n",
        "    def fullname(self):\n",
        "        return '{} {}'.format(self.first, self.last)\n",
        "\n",
        "    def apply_raise(self):\n",
        "        self.pay = int(self.pay * self.raise_amt)\n",
        "\n",
        "#Inherits from Employee. Inherits its functionality.\n",
        "class Developer(Employee):\n",
        "    raise_amt = 1.10 #This will be used instead of the class's raise amount\n",
        "\n",
        "    def __init__(self, first, last, pay, prog_lang): #overriding the class's init method.\n",
        "      super().__init__(first, last, pay) # Super() will pass the Class's first, last, and pay\n",
        "#      Employee.__init__(self, first, last, pay)\n",
        "\n",
        "class Manager(Employee):\n",
        "  def __init__(self, first, last, pay, employees=None): \n",
        "      super().__init__(first, last, pay) \n",
        "      if employees is None:\n",
        "        self.employees = []\n",
        "      else:\n",
        "        self.employees = employees\n",
        "  \n",
        "  def add_emp(self,emp):\n",
        "    if emp not in self.employees:\n",
        "      self.employees.append(emp)\n",
        "\n",
        "  def remove_emp(self,emp):\n",
        "    if emp in self.employees:\n",
        "      self.employees.remove(emp)\n",
        "\n",
        "  def print_emps(self):\n",
        "    for emp in self.employees:\n",
        "      print('-->', emp.fullname())\n",
        "\n",
        "dev_1 = Employee('Sammy', 'Houston', 50000)\n",
        "dev_2 = Employee('Sam', 'Houston', 60000)\n",
        "\n",
        "mgr_1 = Manager('Sue', 'Smith', 90000, [dev_1])\n",
        "\n",
        "print(mgr_1.email)\n",
        "mgr_1.add_emp(dev_2)\n",
        "mgr_1.remove_emp(dev_1)\n",
        "mgr_1.print_emps()\n",
        "\n",
        "print(dev_1.email)\n",
        "print(dev_2.email)\n",
        "\n",
        "\n",
        "# print(dev_1.raise_amt)\n",
        "# print(dev_1.)\n",
        "# dev_1.apply_raise()\n",
        "# print(dev_1.raise_amt)\n",
        "\n",
        "print(dev_1.pay)\n",
        "dev_1.apply_raise()\n",
        "print(dev_1.pay)\n",
        "\n",
        "#isinstance()  checks if something is an instance of a class\n",
        "#issubclass()  checks if a class is a subclass of a class\n"
      ],
      "execution_count": null,
      "outputs": [
        {
          "output_type": "stream",
          "name": "stdout",
          "text": [
            "Sue.Smith@email.com\n",
            "--> Sam Houston\n",
            "Sammy.Houston@email.com\n",
            "Sam.Houston@email.com\n",
            "50000\n",
            "52000\n"
          ]
        }
      ]
    },
    {
      "cell_type": "markdown",
      "metadata": {
        "id": "mvyHdOhTCqpA"
      },
      "source": [
        "##5. Python OOP 5 - Special (Magic/Dunder) Methods - https://youtu.be/3ohzBxoFHAY\n"
      ]
    },
    {
      "cell_type": "code",
      "metadata": {
        "id": "el_g9s1KEJOc",
        "colab": {
          "base_uri": "https://localhost:8080/"
        },
        "outputId": "a58e4169-2b2c-41b6-f910-1fe49854b6fd"
      },
      "source": [
        "class Employee:\n",
        "\n",
        "    raise_amt = 1.04\n",
        "\n",
        "    def __init__(self, first, last, pay):\n",
        "        self.first = first\n",
        "        self.last = last\n",
        "        self.email = first + '.' + last + '@email.com'\n",
        "        self.pay = pay\n",
        "\n",
        "    def fullname(self):\n",
        "        return '{} {}'.format(self.first, self.last)\n",
        "\n",
        "    def apply_raise(self):\n",
        "        self.pay = int(self.pay * self.raise_amt)\n",
        "\n",
        "    def __repr__(self): #Used for debugging\n",
        "        return \"Employee('{}', '{}', {})\".format(self.first, self.last, self.pay)\n",
        "\n",
        "    def __str__(self): #Used to display to the user\n",
        "        return '{} - {}'.format(self.fullname(), self.email)\n",
        "\n",
        "    def __add__(self, other): #will give the combined pay of two employees\n",
        "        return self.pay + other.pay\n",
        "\n",
        "    def __len__(self): #returns the length of the full name\n",
        "        return len(self.fullname())\n",
        "\n",
        "\n",
        "emp_1 = Employee('Sammy', 'Houston', 50000)\n",
        "emp_2 = Employee('Sam', 'Houston', 60000)\n",
        "\n",
        "# print(emp_1 + emp_2)\n",
        "\n",
        "print(len(emp_1))\n",
        "#int.__add__(1,2) Dunder for adding int"
      ],
      "execution_count": null,
      "outputs": [
        {
          "output_type": "stream",
          "name": "stdout",
          "text": [
            "13\n"
          ]
        }
      ]
    },
    {
      "cell_type": "markdown",
      "metadata": {
        "id": "sPcCxrIkCqbQ"
      },
      "source": [
        "##6. Python OOP 6 - Property Decorators - https://youtu.be/jCzT9XFZ5bw"
      ]
    },
    {
      "cell_type": "code",
      "metadata": {
        "id": "eUgRwY4CCpqQ"
      },
      "source": [
        "class Employee:\n",
        "\n",
        "    def __init__(self, first, last):\n",
        "        self.first = first\n",
        "        self.last = last\n",
        "\n",
        "    @property  #needed in order to create the getter and setter. Accesses a method like it would an attribute.\n",
        "    def email(self):\n",
        "        return '{}.{}@email.com'.format(self.first, self.last)\n",
        "\n",
        "    @property\n",
        "    def fullname(self):\n",
        "        return '{} {}'.format(self.first, self.last)\n",
        "    \n",
        "    @fullname.setter\n",
        "    def fullname(self, name):\n",
        "        first, last = name.split(' ')\n",
        "        self.first = first\n",
        "        self.last = last\n",
        "    \n",
        "    @fullname.deleter\n",
        "    def fullname(self):\n",
        "        print('Delete Name!')\n",
        "        self.first = None\n",
        "        self.last = None\n",
        "\n",
        "\n",
        "emp_1 = Employee('Sammy', 'Houston')\n",
        "emp_1.fullname = \"Sammy Houston\"\n",
        "\n",
        "print(emp_1.first)\n",
        "print(emp_1.email)\n",
        "print(emp_1.fullname)\n",
        "\n",
        "del emp_1.fullname"
      ],
      "execution_count": null,
      "outputs": []
    },
    {
      "cell_type": "code",
      "metadata": {
        "id": "1m6ezUqTCpfY"
      },
      "source": [
        "#No Questions"
      ],
      "execution_count": null,
      "outputs": []
    },
    {
      "cell_type": "code",
      "metadata": {
        "id": "4e-Z7DL3CpOp"
      },
      "source": [
        ""
      ],
      "execution_count": null,
      "outputs": []
    }
  ]
}