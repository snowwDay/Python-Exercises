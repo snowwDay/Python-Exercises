{
  "nbformat": 4,
  "nbformat_minor": 0,
  "metadata": {
    "colab": {
      "name": "Janae_15_OOP_instance_class_static.ipynb",
      "provenance": [],
      "collapsed_sections": []
    },
    "kernelspec": {
      "name": "python3",
      "display_name": "Python 3"
    },
    "language_info": {
      "name": "python"
    }
  },
  "cells": [
    {
      "cell_type": "markdown",
      "metadata": {
        "id": "Jw5fppCsjkG8"
      },
      "source": [
        "#Janae Courtney"
      ]
    },
    {
      "cell_type": "markdown",
      "metadata": {
        "id": "BidfB2o49aFk"
      },
      "source": [
        "##Resource\n",
        "1. https://realpython.com/instance-class-and-static-methods-demystified/\n",
        "2. https://www.geeksforgeeks.org/instance-method-in-python/\n",
        "3. https://radek.io/2011/07/21/static-variables-and-methods-in-python/\n",
        "4. https://www.geeksforgeeks.org/g-fact-34-class-or-static-variables-in-python/\n"
      ]
    },
    {
      "cell_type": "markdown",
      "metadata": {
        "id": "V_C_8ib4-p8H"
      },
      "source": [
        "#instance variable vs. class variable"
      ]
    },
    {
      "cell_type": "code",
      "metadata": {
        "id": "3kxpksiWBM6e"
      },
      "source": [
        "# Class for Computer Science Student\n",
        "class Student:\n",
        "    major = 'CS'\t\t\t\t     # Class Variable\n",
        "    def __init__(self,name,year):\n",
        "        self.name = name\t\t # Instance Variable\n",
        "        self.year = year\t\t # Instance Variable"
      ],
      "execution_count": null,
      "outputs": []
    },
    {
      "cell_type": "code",
      "metadata": {
        "id": "TLU4ud84Bmk4",
        "colab": {
          "base_uri": "https://localhost:8080/"
        },
        "outputId": "16ca14d1-1b08-4e2b-a320-e0c5e6547dd1"
      },
      "source": [
        "# Class variables can be accessed using class name.\n",
        "print(Student.major, end='\\n\\n') # prints \"CS\"\n",
        "\n",
        "# instances of Student class\n",
        "a = Student('Sam', 1)\n",
        "b = Student('Houston', 2)\n",
        "\n",
        "print(a.major) # prints \"CS\"\n",
        "print(a.name) # prints \"Sam\"\n",
        "print(a.year, end='\\n\\n') # prints \"1\"\n",
        "\n",
        "print(b.major) # prints \"CS\"\n",
        "print(b.name) # prints \"Houston\"\n",
        "print(b.year, end='\\n\\n') # prints \"2\"\n",
        "\n",
        "# What if we change the major for just a?\n",
        "a.major = 'EE'\n",
        "print(a.major) # prints 'EE'\n",
        "print(b.major) # prints 'CS'\n",
        "print(Student.major, end='\\n\\n') # prints 'CS'\n",
        "\n",
        "# What if we change the major (i.e., the class variable)?\n",
        "Student.major = 'MATH'\n",
        "print(a.major) # prints 'EE'\n",
        "print(b.major) # prints 'MATH'\n",
        "print(Student.major, end='\\n\\n') # prints 'MATH'\n"
      ],
      "execution_count": null,
      "outputs": [
        {
          "output_type": "stream",
          "name": "stdout",
          "text": [
            "CS\n",
            "\n",
            "CS\n",
            "Sam\n",
            "1\n",
            "\n",
            "CS\n",
            "Houston\n",
            "2\n",
            "\n",
            "EE\n",
            "CS\n",
            "CS\n",
            "\n",
            "EE\n",
            "MATH\n",
            "MATH\n",
            "\n"
          ]
        }
      ]
    },
    {
      "cell_type": "code",
      "metadata": {
        "id": "EMxk8wQ7-xQ_",
        "colab": {
          "base_uri": "https://localhost:8080/"
        },
        "outputId": "233d0ae9-3ac8-41f1-9d7d-83906f730158"
      },
      "source": [
        "class Example:\n",
        "    staticVariable = 10 # Access through class\n",
        "\n",
        "print(Example.staticVariable) # prints 10\n",
        "\n",
        "# Access through an instance\n",
        "instance = Example()\n",
        "print(instance.staticVariable) # still 10\n",
        "\n",
        "# Change within an instance\n",
        "instance.staticVariable = 20\n",
        "print(instance.staticVariable) # 20\n",
        "print(Example.staticVariable) # 10\n",
        "\n",
        "# Change through the class\n",
        "Example.staticVariable = 30\n",
        "print(instance.staticVariable) # still 20\n",
        "print(Example.staticVariable) # now 30"
      ],
      "execution_count": null,
      "outputs": [
        {
          "output_type": "stream",
          "name": "stdout",
          "text": [
            "10\n",
            "10\n",
            "20\n",
            "10\n",
            "20\n",
            "30\n"
          ]
        }
      ]
    },
    {
      "cell_type": "markdown",
      "metadata": {
        "id": "3nS_n38utk-u"
      },
      "source": [
        "#instance method vs. class method vs. static method"
      ]
    },
    {
      "cell_type": "code",
      "metadata": {
        "id": "gB7D3tzr0FFh",
        "colab": {
          "base_uri": "https://localhost:8080/"
        },
        "outputId": "bea3f414-926a-4818-cfdc-62b9fe8ff7d5"
      },
      "source": [
        "# Python program to demonstrate instance methods\n",
        "\n",
        "class shape:\n",
        "\t\n",
        "\t  # Calling Constructor\n",
        "    #(Question) Is __init__(self, edge, color) an instance method?\n",
        "    def __init__(self, edge, color):\n",
        "        self.edge = edge\n",
        "        self.color = color\n",
        "\t\t\n",
        "    # Instance Method\n",
        "    def finEdges(self):\n",
        "        return self.edge\n",
        "\t\t\n",
        "    # Instance Method\n",
        "    def modifyEdges(self, newedge):\n",
        "        self.edge = newedge\n",
        "  \n",
        "# Making two instances (i.e., instanciation)\n",
        "circle = shape(0, 'red')\n",
        "square = shape(4, 'blue')\n",
        "\n",
        "# Calling Instance Method\n",
        "print(\"No. of edges in a circle: \"+ str(circle.finEdges()))\n",
        "\n",
        "# Modyfying the edge of a square and Calling Instance Method\n",
        "square.modifyEdges(6)\n",
        "print(\"No. of edges in a square: \"+ str(square.finEdges()))"
      ],
      "execution_count": null,
      "outputs": [
        {
          "output_type": "stream",
          "name": "stdout",
          "text": [
            "No. of edges in a circle: 0\n",
            "No. of edges in a square: 6\n"
          ]
        }
      ]
    },
    {
      "cell_type": "code",
      "metadata": {
        "id": "60L3rSvm_uNq"
      },
      "source": [
        "class Example:\n",
        "    name = \"Example\"\n",
        "\n",
        "    @staticmethod\n",
        "    def static():\n",
        "        print (\"%s static() called\" % Example.name) # had to fix the syntax, needed parenthesis\n",
        "\n",
        "class Offspring1(Example):\n",
        "    name = \"Offspring1\"\n",
        "\n",
        "class Offspring2(Example):\n",
        "    name = \"Offspring2\"\n",
        "\n",
        "    @staticmethod\n",
        "    def static():\n",
        "        print (\"%s static() called\" % Offspring2.name)\n"
      ],
      "execution_count": null,
      "outputs": []
    },
    {
      "cell_type": "code",
      "metadata": {
        "id": "ky3b2O5OAnuV",
        "colab": {
          "base_uri": "https://localhost:8080/"
        },
        "outputId": "6b5e498d-64fb-4d6a-e083-90e3537c44ac"
      },
      "source": [
        "Example.static() # prints Example\n",
        "Offspring1.static() # prints Example\n",
        "Offspring2.static() # prints Offspring2"
      ],
      "execution_count": null,
      "outputs": [
        {
          "output_type": "stream",
          "name": "stdout",
          "text": [
            "Example static() called\n",
            "Example static() called\n",
            "Offspring2 static() called\n"
          ]
        }
      ]
    },
    {
      "cell_type": "code",
      "metadata": {
        "id": "Osirs28H_vlS"
      },
      "source": [
        "class Example:\n",
        "    name = \"Example\"\n",
        "\n",
        "    @classmethod\n",
        "    def static(cls):\n",
        "        print (\"%s static() called\" % cls.name)\n",
        "\n",
        "class Offspring1(Example):\n",
        "    name = \"Offspring1\"\n",
        "    pass\n",
        "\n",
        "class Offspring2(Example):\n",
        "    name = \"Offspring2\"\n",
        "\n",
        "    @classmethod\n",
        "    def static(cls):\n",
        "        print (\"%s static() called\" % cls.name)\n"
      ],
      "execution_count": null,
      "outputs": []
    },
    {
      "cell_type": "code",
      "metadata": {
        "id": "B_uhb2L0ApkN",
        "colab": {
          "base_uri": "https://localhost:8080/"
        },
        "outputId": "eec46a4f-c2e6-4a0a-be9e-bf3fc4422e4a"
      },
      "source": [
        "Example.static()    # prints Example\n",
        "Offspring1.static() # prints Offspring1\n",
        "Offspring2.static() # prints Offspring2"
      ],
      "execution_count": null,
      "outputs": [
        {
          "output_type": "stream",
          "name": "stdout",
          "text": [
            "Example static() called\n",
            "Offspring1 static() called\n",
            "Offspring2 static() called\n"
          ]
        }
      ]
    },
    {
      "cell_type": "code",
      "metadata": {
        "colab": {
          "base_uri": "https://localhost:8080/",
          "height": 269
        },
        "id": "dJc0OHlcgNmF",
        "outputId": "c63a9497-5e1f-48d2-c98a-06ec77521383"
      },
      "source": [
        "#Extension\n",
        "\n",
        "class Example:\n",
        "  name = \"Example\"\n",
        "  \n",
        "  def temp1():\n",
        "    print (\"In Temp1()\")\n",
        "  \n",
        "  def temp2(a):\n",
        "    print (f\"In Temp2(a):{a.name}\")\n",
        "\n",
        "  @classmethod\n",
        "  def class1():\n",
        "    print (\"In class1()\")\n",
        "  \n",
        "  @classmethod\n",
        "  def class2(a):\n",
        "    print (f\"In class2():{a.name}\")\n",
        "\n",
        "  @staticmethod\n",
        "  def static1():\n",
        "    print (\"In static1()\")\n",
        "\n",
        "  @staticmethod\n",
        "  def static2(a):\n",
        "    print (f\"In static2(a):{a.name}\")\n",
        "\n",
        "Example.name\n",
        "\n",
        "Example.temp1()\n",
        "Example.temp2() #error, missing argument\n",
        "Example.temp2(Example)\n",
        "\n",
        "Example.class1() #error, Will automatically give parameter\n",
        "Example.class2() \n",
        "Example.class2(Example) #error, extra parameter\n",
        "\n",
        "Example.static1()  \n",
        "Example.static2() #error, missing argument \n",
        "Example.static2(Example)\n",
        "\n",
        "i = Example() #instantiation\n",
        "\n",
        "i.name\n",
        "i.temp1()\n",
        "i.temp2() #error, missing argument\n",
        "i.temp2(i)\n",
        "\n",
        "i.class1()#eror,gives parameter when none is needed\n",
        "i.class2() \n",
        "i.class2(i) # error, will give 2 parameters\n",
        "\n",
        "i.static1()  \n",
        "i.static2() #error, missing argument\n",
        "i.static2(i)"
      ],
      "execution_count": null,
      "outputs": [
        {
          "output_type": "stream",
          "name": "stdout",
          "text": [
            "In Temp1()\n"
          ]
        },
        {
          "output_type": "error",
          "ename": "TypeError",
          "evalue": "ignored",
          "traceback": [
            "\u001b[0;31m---------------------------------------------------------------------------\u001b[0m",
            "\u001b[0;31mTypeError\u001b[0m                                 Traceback (most recent call last)",
            "\u001b[0;32m<ipython-input-15-3fb655a6395d>\u001b[0m in \u001b[0;36m<module>\u001b[0;34m()\u001b[0m\n\u001b[1;32m     29\u001b[0m \u001b[0;34m\u001b[0m\u001b[0m\n\u001b[1;32m     30\u001b[0m \u001b[0mExample\u001b[0m\u001b[0;34m.\u001b[0m\u001b[0mtemp1\u001b[0m\u001b[0;34m(\u001b[0m\u001b[0;34m)\u001b[0m\u001b[0;34m\u001b[0m\u001b[0;34m\u001b[0m\u001b[0m\n\u001b[0;32m---> 31\u001b[0;31m \u001b[0mExample\u001b[0m\u001b[0;34m.\u001b[0m\u001b[0mtemp2\u001b[0m\u001b[0;34m(\u001b[0m\u001b[0;34m)\u001b[0m \u001b[0;31m#error, missing argument\u001b[0m\u001b[0;34m\u001b[0m\u001b[0;34m\u001b[0m\u001b[0m\n\u001b[0m\u001b[1;32m     32\u001b[0m \u001b[0mExample\u001b[0m\u001b[0;34m.\u001b[0m\u001b[0mtemp2\u001b[0m\u001b[0;34m(\u001b[0m\u001b[0mExample\u001b[0m\u001b[0;34m)\u001b[0m\u001b[0;34m\u001b[0m\u001b[0;34m\u001b[0m\u001b[0m\n\u001b[1;32m     33\u001b[0m \u001b[0;34m\u001b[0m\u001b[0m\n",
            "\u001b[0;31mTypeError\u001b[0m: temp2() missing 1 required positional argument: 'a'"
          ]
        }
      ]
    }
  ]
}