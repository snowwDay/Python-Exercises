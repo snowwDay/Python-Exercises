{
  "nbformat": 4,
  "nbformat_minor": 0,
  "metadata": {
    "colab": {
      "name": "Janae_13_OOP_fundamentals.ipynb",
      "provenance": [],
      "collapsed_sections": []
    },
    "kernelspec": {
      "name": "python3",
      "display_name": "Python 3"
    },
    "language_info": {
      "name": "python"
    }
  },
  "cells": [
    {
      "cell_type": "markdown",
      "metadata": {
        "id": "DP_eRq58jDMA"
      },
      "source": [
        "#Janae Courtney"
      ]
    },
    {
      "cell_type": "markdown",
      "metadata": {
        "id": "3nS_n38utk-u"
      },
      "source": [
        "#Object-Oriented Programming (OOP) in Python\n"
      ]
    },
    {
      "cell_type": "markdown",
      "metadata": {
        "id": "8cA6Qmw-hX-V"
      },
      "source": [
        "##Class vs. Objects\n",
        "\n",
        "Different Types of Programming Languages\n",
        "1. Machine Code (or Machine Language)\n",
        "2. Assembly Language\n",
        "  - more human readable than Machine Language\n",
        "3. Procedural Programming Language\n",
        "  - focusing on the step-by-step instructions that tell the computer what to do to solve a problem. \n",
        "4. Structured Programming Language\n",
        "  -  involving breaking the program into smaller modules of code.\n",
        "5. Functional Programming Language\n",
        "  - Programs are constructed by applying and composing functions.\n",
        "  - Functions are treated as first-class citizens.\n",
        "6. Object-Oriented Programming Language\n",
        "  - based on the concept of \"objects\", which can contain data (=material, physical, etc.) and code (=behavior, activity, etc.)\n",
        "  - data in the form of fields (often known as attributes or properties)\n",
        "  - code in the form of procedures (often known as methods).\n",
        "\n",
        "NOTE: imperative programming vs. declarative programming "
      ]
    },
    {
      "cell_type": "markdown",
      "metadata": {
        "id": "mPLbbav-xJFC"
      },
      "source": [
        "##Object\n",
        "1. physical (=material) + logical (=behavioral) components \n",
        "2. Instance (i.e., copied version) of a specific class.\n",
        "3. Recall the \"Cookie\" analogy!\n",
        "\n",
        "##Class\n",
        "1. Blueprint or Specification of objects\n",
        "2. Specifies both the attributes and/or the functionalities of objects.\n",
        "3. Recall the \"Cookie-Cutter\" analogy!\n"
      ]
    },
    {
      "cell_type": "markdown",
      "metadata": {
        "id": "wC0PNOXZPR8L"
      },
      "source": [
        ""
      ]
    },
    {
      "cell_type": "markdown",
      "metadata": {
        "id": "H54lxFg-y902"
      },
      "source": [
        "##Abstraction\n",
        "1. It can perform work, report on and change their state, and communicate with other objects in the system.\n",
        "2. It helps create a modular design.\n",
        "3. It **enables working in input-output mode.**\n",
        "\n",
        "##Encapsulation\n",
        "1. It is used to hide the values of state of a structured data object inside a class, preventing unauthorized parties' direct access to them.\n",
        "2. It **protects the data** (=the contents of an object) from outter environment.\n",
        "3. It helps **improve security** of the object.\n",
        "\n",
        "##Inheritance\n",
        "1. It help **avoid repeatable code and improve reusability**.\n",
        "\n",
        "##Polymorphism\n",
        "1. It means that objects or methods take multiple forms, depending on situations.\n",
        "2. It provides a **faster and efficient use of code**.\n",
        "\n",
        "##Information Hiding"
      ]
    },
    {
      "cell_type": "markdown",
      "metadata": {
        "id": "X4BnXqTf2pT2"
      },
      "source": [
        "#Class Definition\n",
        "\n",
        "```\n",
        "class MyClass:\n",
        "\n",
        "    def __init__(self, parameter1, parameter2):\n",
        "        self.parameter1 = parameter1\n",
        "        self.parameter2 = parameter2\n",
        "\n",
        "    def method1(self):\n",
        "        statements\n",
        "\n",
        "object1 = MyClass(parameter1, parameter2)\n",
        "object1.method1()`\n",
        "```\n"
      ]
    },
    {
      "cell_type": "code",
      "metadata": {
        "id": "Zko6tHDxy9P_"
      },
      "source": [
        "# =============================================================================\n",
        "# Create a Student class and object\n",
        "# =============================================================================\n",
        "\n",
        "class Student:\n",
        "    \n",
        "    def hello0():\n",
        "        print(\"Hello0()...\")\n",
        "\n",
        "    def hello1(self):\n",
        "        print(\"Hello1(self)...\")\n",
        "    \n",
        "    def hello2(a, b):\n",
        "        print(f\"Hello2({a}, {b})...\")\n",
        "\n",
        "    @classmethod #declaration\n",
        "    def hello3(v):\n",
        "        print('ABC')\n",
        "\n",
        "    @staticmethod\n",
        "    def hello4(a):\n",
        "        print(a)\n",
        "\n",
        "    @staticmethod\n",
        "    def hello5(a, b):\n",
        "        print(f'a={a}, b={b}')"
      ],
      "execution_count": null,
      "outputs": []
    },
    {
      "cell_type": "code",
      "metadata": {
        "colab": {
          "base_uri": "https://localhost:8080/"
        },
        "id": "xk3QLAdP7JGY",
        "outputId": "47fa2a6f-233b-4b19-a8b0-5406687455c1"
      },
      "source": [
        "Student.hello0()\n",
        "Student.hello1(1)\n",
        "Student.hello2(10, 20)\n",
        "\n",
        "Student.hello3()\n",
        "Student.hello4(10)\n",
        "Student.hello5(10, 20)"
      ],
      "execution_count": null,
      "outputs": [
        {
          "output_type": "stream",
          "name": "stdout",
          "text": [
            "Hello0()...\n",
            "Hello1(self)...\n",
            "Hello2(10, 20)...\n",
            "ABC\n",
            "10\n",
            "a=10, b=20\n"
          ]
        }
      ]
    },
    {
      "cell_type": "code",
      "metadata": {
        "colab": {
          "base_uri": "https://localhost:8080/"
        },
        "id": "pGP51c8D7Kn4",
        "outputId": "dde5c27f-b1b0-49b7-eb65-10378612edf1"
      },
      "source": [
        "s1 = Student() #Instance \n",
        "\n",
        "#s1.hello0() this will cause an error, because the function dosen't have parameters\n",
        "s1.hello1()\n",
        "s1.hello2(10) # prints the address of the object and 10\n",
        "\n",
        "s1.hello3()\n",
        "s1.hello4(10)\n",
        "s1.hello5(10, 20)"
      ],
      "execution_count": null,
      "outputs": [
        {
          "output_type": "stream",
          "name": "stdout",
          "text": [
            "Hello1(self)...\n",
            "Hello2(<__main__.Student object at 0x7f3a07785410>, 10)...\n",
            "ABC\n",
            "10\n",
            "a=10, b=20\n"
          ]
        }
      ]
    },
    {
      "cell_type": "code",
      "metadata": {
        "id": "qhcmNQ6r9mEk"
      },
      "source": [
        "# =============================================================================\n",
        "# Instance attribute\n",
        "# =============================================================================\n",
        "\n",
        "class Student:\n",
        "\n",
        "    # Create attributes for the objects (i.e., instance attributes)\n",
        "    def __init__(self, fname, lname, gender, enrno):\n",
        "        self.fname   = fname\n",
        "        self.lname   = lname\n",
        "        self.gender  = gender\n",
        "        self.enrno   = enrno\n",
        "    \n",
        "    def hello(self):\n",
        "        print(\"Hello\", self.fname)"
      ],
      "execution_count": null,
      "outputs": []
    },
    {
      "cell_type": "code",
      "metadata": {
        "colab": {
          "base_uri": "https://localhost:8080/"
        },
        "id": "8WfO62HnJnH1",
        "outputId": "f3c010e3-afa8-41ff-ba1d-0588533fb460"
      },
      "source": [
        "s1 = Student(\"Sam\", \"Houston\", \"M\", \"2021\")\n",
        "s1.hello()\n",
        "print(s1.enrno)"
      ],
      "execution_count": null,
      "outputs": [
        {
          "output_type": "stream",
          "name": "stdout",
          "text": [
            "Hello Sam\n",
            "2021\n"
          ]
        }
      ]
    },
    {
      "cell_type": "code",
      "metadata": {
        "id": "nnep8hVH-F_v",
        "colab": {
          "base_uri": "https://localhost:8080/",
          "height": 191
        },
        "outputId": "716349e2-4d84-4d23-c694-483d7ebb3a08"
      },
      "source": [
        "Student.fname #this will only work for an instance of the class\n",
        "#  s1.fname will work"
      ],
      "execution_count": null,
      "outputs": [
        {
          "output_type": "error",
          "ename": "AttributeError",
          "evalue": "ignored",
          "traceback": [
            "\u001b[0;31m---------------------------------------------------------------------------\u001b[0m",
            "\u001b[0;31mAttributeError\u001b[0m                            Traceback (most recent call last)",
            "\u001b[0;32m<ipython-input-12-1c205852a8e7>\u001b[0m in \u001b[0;36m<module>\u001b[0;34m()\u001b[0m\n\u001b[0;32m----> 1\u001b[0;31m \u001b[0mStudent\u001b[0m\u001b[0;34m.\u001b[0m\u001b[0mfname\u001b[0m\u001b[0;34m\u001b[0m\u001b[0;34m\u001b[0m\u001b[0m\n\u001b[0m\u001b[1;32m      2\u001b[0m \u001b[0;31m#s1.fname\u001b[0m\u001b[0;34m\u001b[0m\u001b[0;34m\u001b[0m\u001b[0;34m\u001b[0m\u001b[0m\n",
            "\u001b[0;31mAttributeError\u001b[0m: type object 'Student' has no attribute 'fname'"
          ]
        }
      ]
    },
    {
      "cell_type": "code",
      "metadata": {
        "id": "sxPFT_jZ9yDN"
      },
      "source": [
        "# =============================================================================\n",
        "# class attributes (or static attribute)\n",
        "# =============================================================================\n",
        "\n",
        "class Student:\n",
        "    # Class sttributes or static \n",
        "    country = \"USA\"\n",
        "    _country = \"AAA\"\n",
        "    __country = \"BBB\"\n",
        "\n",
        "    # Create attributes for the objects\n",
        "    def __init__(self, fname, lname, gender, enrno):\n",
        "       self.fname   = fname\n",
        "       self.lname   = lname\n",
        "       self.gender  = gender\n",
        "       self.enrno   = enrno\n",
        "    \n",
        "    def hello(self):\n",
        "        print(\"Hello {}, Where are you from?\".format(self.fname))\n",
        "        print(\"I am from {}.\".format(Student.country))\n"
      ],
      "execution_count": null,
      "outputs": []
    },
    {
      "cell_type": "code",
      "metadata": {
        "colab": {
          "base_uri": "https://localhost:8080/"
        },
        "id": "4bVNPZsfJuym",
        "outputId": "757736dd-3c5b-4b30-e388-d1984b45e219"
      },
      "source": [
        "s1 = Student(\"Sam\", \"Houston\", \"M\", \"2021\")\n",
        "s1.hello()\n",
        "\n",
        "s2 = Student(\"Sammy\", \"Houston\", \"F\", \"2021\")\n",
        "s2.hello()\n"
      ],
      "execution_count": null,
      "outputs": [
        {
          "output_type": "stream",
          "name": "stdout",
          "text": [
            "Hello Sam, Where are you from?\n",
            "I am from USA.\n",
            "Hello Sammy, Where are you from?\n",
            "I am from USA.\n"
          ]
        }
      ]
    },
    {
      "cell_type": "code",
      "metadata": {
        "id": "D0o-Qf_y-0-a",
        "colab": {
          "base_uri": "https://localhost:8080/",
          "height": 282
        },
        "outputId": "b65f528f-8cdc-408f-a5cf-9b350978502c"
      },
      "source": [
        "Student.hello()   # hello() has a parameter so this will not work, student is also not initialized so it wouldn't work."
      ],
      "execution_count": null,
      "outputs": [
        {
          "output_type": "error",
          "ename": "AttributeError",
          "evalue": "ignored",
          "traceback": [
            "\u001b[0;31m---------------------------------------------------------------------------\u001b[0m",
            "\u001b[0;31mAttributeError\u001b[0m                            Traceback (most recent call last)",
            "\u001b[0;32m<ipython-input-23-167c9799ee0f>\u001b[0m in \u001b[0;36m<module>\u001b[0;34m()\u001b[0m\n\u001b[0;32m----> 1\u001b[0;31m \u001b[0mStudent\u001b[0m\u001b[0;34m.\u001b[0m\u001b[0mhello\u001b[0m\u001b[0;34m(\u001b[0m\u001b[0mStudent\u001b[0m\u001b[0;34m)\u001b[0m   \u001b[0;31m# hello() has a parameter so this will not work.\u001b[0m\u001b[0;34m\u001b[0m\u001b[0;34m\u001b[0m\u001b[0m\n\u001b[0m",
            "\u001b[0;32m<ipython-input-13-976f40d85bba>\u001b[0m in \u001b[0;36mhello\u001b[0;34m(self)\u001b[0m\n\u001b[1;32m     17\u001b[0m \u001b[0;34m\u001b[0m\u001b[0m\n\u001b[1;32m     18\u001b[0m     \u001b[0;32mdef\u001b[0m \u001b[0mhello\u001b[0m\u001b[0;34m(\u001b[0m\u001b[0mself\u001b[0m\u001b[0;34m)\u001b[0m\u001b[0;34m:\u001b[0m\u001b[0;34m\u001b[0m\u001b[0;34m\u001b[0m\u001b[0m\n\u001b[0;32m---> 19\u001b[0;31m         \u001b[0mprint\u001b[0m\u001b[0;34m(\u001b[0m\u001b[0;34m\"Hello {}, Where are you from?\"\u001b[0m\u001b[0;34m.\u001b[0m\u001b[0mformat\u001b[0m\u001b[0;34m(\u001b[0m\u001b[0mself\u001b[0m\u001b[0;34m.\u001b[0m\u001b[0mfname\u001b[0m\u001b[0;34m)\u001b[0m\u001b[0;34m)\u001b[0m\u001b[0;34m\u001b[0m\u001b[0;34m\u001b[0m\u001b[0m\n\u001b[0m\u001b[1;32m     20\u001b[0m         \u001b[0mprint\u001b[0m\u001b[0;34m(\u001b[0m\u001b[0;34m\"I am from {}.\"\u001b[0m\u001b[0;34m.\u001b[0m\u001b[0mformat\u001b[0m\u001b[0;34m(\u001b[0m\u001b[0mStudent\u001b[0m\u001b[0;34m.\u001b[0m\u001b[0mcountry\u001b[0m\u001b[0;34m)\u001b[0m\u001b[0;34m)\u001b[0m\u001b[0;34m\u001b[0m\u001b[0;34m\u001b[0m\u001b[0m\n",
            "\u001b[0;31mAttributeError\u001b[0m: type object 'Student' has no attribute 'fname'"
          ]
        }
      ]
    },
    {
      "cell_type": "code",
      "metadata": {
        "colab": {
          "base_uri": "https://localhost:8080/"
        },
        "id": "hoxB2jzUs361",
        "outputId": "f4a82453-f219-4fda-ca41-9b5d767f9001"
      },
      "source": [
        "Student.hello(s1)"
      ],
      "execution_count": null,
      "outputs": [
        {
          "output_type": "stream",
          "name": "stdout",
          "text": [
            "Hello Sam, Where are you from?\n",
            "I am from USA.\n"
          ]
        }
      ]
    },
    {
      "cell_type": "code",
      "metadata": {
        "colab": {
          "base_uri": "https://localhost:8080/",
          "height": 36
        },
        "id": "QDcUmt08_uje",
        "outputId": "d9a2efaa-9ca6-46e1-b623-1cdfd3ee25c0"
      },
      "source": [
        "s1.country = \"Korea\"\n",
        "s1.country"
      ],
      "execution_count": null,
      "outputs": [
        {
          "output_type": "execute_result",
          "data": {
            "application/vnd.google.colaboratory.intrinsic+json": {
              "type": "string"
            },
            "text/plain": [
              "'Korea'"
            ]
          },
          "metadata": {},
          "execution_count": 18
        }
      ]
    },
    {
      "cell_type": "code",
      "metadata": {
        "colab": {
          "base_uri": "https://localhost:8080/",
          "height": 36
        },
        "id": "lirqE99fAR7K",
        "outputId": "8b665b96-a7e2-47c6-bc97-7c16d03e713a"
      },
      "source": [
        "s2.country #accesable"
      ],
      "execution_count": null,
      "outputs": [
        {
          "output_type": "execute_result",
          "data": {
            "application/vnd.google.colaboratory.intrinsic+json": {
              "type": "string"
            },
            "text/plain": [
              "'USA'"
            ]
          },
          "metadata": {},
          "execution_count": 19
        }
      ]
    },
    {
      "cell_type": "code",
      "metadata": {
        "colab": {
          "base_uri": "https://localhost:8080/",
          "height": 36
        },
        "id": "qkcJV4jzAq96",
        "outputId": "bf78d151-1db6-47d4-dbb2-1a54e6826311"
      },
      "source": [
        "Student.country #accessable"
      ],
      "execution_count": null,
      "outputs": [
        {
          "output_type": "execute_result",
          "data": {
            "application/vnd.google.colaboratory.intrinsic+json": {
              "type": "string"
            },
            "text/plain": [
              "'USA'"
            ]
          },
          "metadata": {},
          "execution_count": 20
        }
      ]
    },
    {
      "cell_type": "code",
      "metadata": {
        "colab": {
          "base_uri": "https://localhost:8080/",
          "height": 36
        },
        "id": "lkYAT-f2A7Hb",
        "outputId": "be196103-b578-4a83-9a09-f59080df1e69"
      },
      "source": [
        "Student._country #accessable"
      ],
      "execution_count": null,
      "outputs": [
        {
          "output_type": "execute_result",
          "data": {
            "application/vnd.google.colaboratory.intrinsic+json": {
              "type": "string"
            },
            "text/plain": [
              "'AAA'"
            ]
          },
          "metadata": {},
          "execution_count": 21
        }
      ]
    },
    {
      "cell_type": "code",
      "metadata": {
        "id": "oeC7B5-pA9JT",
        "colab": {
          "base_uri": "https://localhost:8080/",
          "height": 172
        },
        "outputId": "5fcea22d-fa9d-4373-8de5-a1fbcf4065ce"
      },
      "source": [
        "Student.__country #this is a private variable so it can't be accessed"
      ],
      "execution_count": null,
      "outputs": [
        {
          "output_type": "error",
          "ename": "AttributeError",
          "evalue": "ignored",
          "traceback": [
            "\u001b[0;31m---------------------------------------------------------------------------\u001b[0m",
            "\u001b[0;31mAttributeError\u001b[0m                            Traceback (most recent call last)",
            "\u001b[0;32m<ipython-input-22-2a4b7028ea55>\u001b[0m in \u001b[0;36m<module>\u001b[0;34m()\u001b[0m\n\u001b[0;32m----> 1\u001b[0;31m \u001b[0mStudent\u001b[0m\u001b[0;34m.\u001b[0m\u001b[0m__country\u001b[0m \u001b[0;31m#__reserved for  private variables\u001b[0m\u001b[0;34m\u001b[0m\u001b[0;34m\u001b[0m\u001b[0m\n\u001b[0m",
            "\u001b[0;31mAttributeError\u001b[0m: type object 'Student' has no attribute '__country'"
          ]
        }
      ]
    }
  ]
}